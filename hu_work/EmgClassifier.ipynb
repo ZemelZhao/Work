{
 "cells": [
  {
   "cell_type": "markdown",
   "metadata": {},
   "source": [
    "# <font color=#6495ED>Emg Classifier</font>"
   ]
  },
  {
   "cell_type": "code",
   "execution_count": 3,
   "metadata": {},
   "outputs": [],
   "source": [
    "import pandas as pd\n",
    "import scipy.io as scio\n",
    "import numpy as np\n",
    "import os\n",
    "import time\n",
    "import tensorflow as tf\n",
    "import random\n",
    "from sklearn.discriminant_analysis import LinearDiscriminantAnalysis as LDA"
   ]
  },
  {
   "cell_type": "markdown",
   "metadata": {},
   "source": [
    "## Data loader"
   ]
  },
  {
   "cell_type": "markdown",
   "metadata": {},
   "source": [
    "### LoadCsvData : load data from csv file on local or remote server\n",
    "LoadCsvData(dataPath,DataColumnsNames=[],isLaptop=False,chunkSize=None)\n",
    "* dataPath : data path in local folder or url link to download wiht Keras.utils.get_files\n",
    "* dataColumnsNames : names for columns \n",
    "* isLaptop : whether is laptop, to determine whether use chunkload to avoid latence and burdon on memory, default is False\n",
    "* chunkSize : if isLaptop, set chunkSize to read the data in chunk mode and return a iterator, default is None"
   ]
  },
  {
   "cell_type": "markdown",
   "metadata": {},
   "source": [
    "#### Method"
   ]
  },
  {
   "cell_type": "code",
   "execution_count": 4,
   "metadata": {},
   "outputs": [],
   "source": [
    "def LoadCsvData(dataPath,DataColumnsNames=[],isLaptop=False,chunkSize=None):\n",
    "    if 'http' in dataPath:\n",
    "        dataPath = tf.keras.utils.get_file(dataPath.split('/')[-1],dataPath)\n",
    "    try:\n",
    "        rawData = pd.read_csv(dataPath,names=DataColumnsNames,header=0,chunksize=chunkSize if isLaptop else None)\n",
    "        return rawData\n",
    "    except:\n",
    "        return None"
   ]
  },
  {
   "cell_type": "markdown",
   "metadata": {},
   "source": [
    "#### An examle of LoadCsvData()"
   ]
  },
  {
   "cell_type": "code",
   "execution_count": 3,
   "metadata": {},
   "outputs": [
    {
     "name": "stdout",
     "output_type": "stream",
     "text": [
      "<class 'NoneType'>\n"
     ]
    }
   ],
   "source": [
    "dataPath = r'C:\\\\Users\\\\mswxh\\\\Desktop\\\\S1.csv'\n",
    "dataUrl = r'http://bbl.sjturover.com:8080/download/Ninapro/Data2/csvFile/S2.csv'\n",
    "dataColumnsNames = ['emg0','emg1','emg2','emg3','emg4','emg5','emg6','emg7','emg8','emg9','emg10','emg11','label']\n",
    "rawData = LoadCsvData(dataPath,dataColumnsNames)\n",
    "print(type(rawData)) #<class 'pandas.core.frame.DataFrame'>\n",
    "# rawDataIterator = LoadCsvData(dataPath,dataColumnsNames,isLaptop=True,chunkSize=10000)\n",
    "# print(type(rawDataIterator)) #<class 'pandas.io.parsers.TextFileReader'>"
   ]
  },
  {
   "cell_type": "markdown",
   "metadata": {},
   "source": [
    "#### Delsys Test Data"
   ]
  },
  {
   "cell_type": "code",
   "execution_count": 5,
   "metadata": {},
   "outputs": [
    {
     "name": "stdout",
     "output_type": "stream",
     "text": [
      "<class 'pandas.core.frame.DataFrame'>\n"
     ]
    }
   ],
   "source": [
    "# dataPath = r'E:\\\\Desktop\\\\EmgData_20180320080557_Rover.csv' \n",
    "# dataPath = r'C:\\\\Users\\\\eConRover\\\\Desktop\\\\EmgData_20180320080557_Rover.csv'\n",
    "dataPath = r'C:\\\\Users\\\\mswxh\\\\Desktop\\\\EmgData_20180320080557_Rover.csv'\n",
    "dataUrl = r'http://bbl.sjturover.com:8080/download/Ninapro/Data2/csvFile/S2.csv'\n",
    "dataColumnsNames = ['emg0','emg1','emg2','emg3','label']\n",
    "rawData = LoadCsvData(dataPath,dataColumnsNames)\n",
    "print(type(rawData)) #<class 'pandas.core.frame.DataFrame'>\n",
    "# rawDataIterator = LoadCsvData(dataPath,dataColumnsNames,isLaptop=True,chunkSize=10000)\n",
    "# print(type(rawDataIterator)) #<class 'pandas.io.parsers.TextFileReader'>"
   ]
  },
  {
   "cell_type": "code",
   "execution_count": 7,
   "metadata": {},
   "outputs": [
    {
     "data": {
      "text/html": [
       "<div>\n",
       "<style scoped>\n",
       "    .dataframe tbody tr th:only-of-type {\n",
       "        vertical-align: middle;\n",
       "    }\n",
       "\n",
       "    .dataframe tbody tr th {\n",
       "        vertical-align: top;\n",
       "    }\n",
       "\n",
       "    .dataframe thead th {\n",
       "        text-align: right;\n",
       "    }\n",
       "</style>\n",
       "<table border=\"1\" class=\"dataframe\">\n",
       "  <thead>\n",
       "    <tr style=\"text-align: right;\">\n",
       "      <th></th>\n",
       "      <th>emg0</th>\n",
       "      <th>emg1</th>\n",
       "      <th>emg2</th>\n",
       "      <th>emg3</th>\n",
       "      <th>label</th>\n",
       "    </tr>\n",
       "  </thead>\n",
       "  <tbody>\n",
       "    <tr>\n",
       "      <th>count</th>\n",
       "      <td>42000.000000</td>\n",
       "      <td>42000.000000</td>\n",
       "      <td>42000.000000</td>\n",
       "      <td>42000.000000</td>\n",
       "      <td>42000.000000</td>\n",
       "    </tr>\n",
       "    <tr>\n",
       "      <th>mean</th>\n",
       "      <td>-0.000004</td>\n",
       "      <td>0.000011</td>\n",
       "      <td>-0.000013</td>\n",
       "      <td>0.000018</td>\n",
       "      <td>3.000000</td>\n",
       "    </tr>\n",
       "    <tr>\n",
       "      <th>std</th>\n",
       "      <td>0.000129</td>\n",
       "      <td>0.000030</td>\n",
       "      <td>0.000054</td>\n",
       "      <td>0.000010</td>\n",
       "      <td>2.000024</td>\n",
       "    </tr>\n",
       "    <tr>\n",
       "      <th>min</th>\n",
       "      <td>-0.001344</td>\n",
       "      <td>-0.000343</td>\n",
       "      <td>-0.000621</td>\n",
       "      <td>-0.000033</td>\n",
       "      <td>0.000000</td>\n",
       "    </tr>\n",
       "    <tr>\n",
       "      <th>25%</th>\n",
       "      <td>-0.000020</td>\n",
       "      <td>0.000004</td>\n",
       "      <td>-0.000021</td>\n",
       "      <td>0.000012</td>\n",
       "      <td>1.000000</td>\n",
       "    </tr>\n",
       "    <tr>\n",
       "      <th>50%</th>\n",
       "      <td>-0.000002</td>\n",
       "      <td>0.000011</td>\n",
       "      <td>-0.000014</td>\n",
       "      <td>0.000018</td>\n",
       "      <td>3.000000</td>\n",
       "    </tr>\n",
       "    <tr>\n",
       "      <th>75%</th>\n",
       "      <td>0.000018</td>\n",
       "      <td>0.000019</td>\n",
       "      <td>-0.000006</td>\n",
       "      <td>0.000023</td>\n",
       "      <td>5.000000</td>\n",
       "    </tr>\n",
       "    <tr>\n",
       "      <th>max</th>\n",
       "      <td>0.001040</td>\n",
       "      <td>0.000235</td>\n",
       "      <td>0.000502</td>\n",
       "      <td>0.000090</td>\n",
       "      <td>6.000000</td>\n",
       "    </tr>\n",
       "  </tbody>\n",
       "</table>\n",
       "</div>"
      ],
      "text/plain": [
       "               emg0          emg1          emg2          emg3         label\n",
       "count  42000.000000  42000.000000  42000.000000  42000.000000  42000.000000\n",
       "mean      -0.000004      0.000011     -0.000013      0.000018      3.000000\n",
       "std        0.000129      0.000030      0.000054      0.000010      2.000024\n",
       "min       -0.001344     -0.000343     -0.000621     -0.000033      0.000000\n",
       "25%       -0.000020      0.000004     -0.000021      0.000012      1.000000\n",
       "50%       -0.000002      0.000011     -0.000014      0.000018      3.000000\n",
       "75%        0.000018      0.000019     -0.000006      0.000023      5.000000\n",
       "max        0.001040      0.000235      0.000502      0.000090      6.000000"
      ]
     },
     "execution_count": 7,
     "metadata": {},
     "output_type": "execute_result"
    }
   ],
   "source": [
    "rawData.describe()"
   ]
  },
  {
   "cell_type": "markdown",
   "metadata": {},
   "source": [
    "## Data preprocessor"
   ]
  },
  {
   "cell_type": "markdown",
   "metadata": {},
   "source": [
    "#### feat_extra : extract features from emg data, default is time domain(TD) and autoregression(AR) features, featureNum = (4TD+8AR)*channelNum\n",
    "* data : a window set of emg data, np.ndarray\n",
    "* userAR : whether usr AR feature, default is True"
   ]
  },
  {
   "cell_type": "code",
   "execution_count": 8,
   "metadata": {},
   "outputs": [],
   "source": [
    "def feat_extra(data,useAR = False):\n",
    "    def feat_TD(data):\n",
    "        data = np.array(data)\n",
    "        data_result = []\n",
    "        data_result.append(np.sum(np.fabs(data)))\n",
    "        data_result.append(np.sum(np.fabs(data[1:]-data[:-1])))\n",
    "        data_result.append(np.sum(data[1:]*data[:-1]>0))\n",
    "        data_result.append(np.sum((data[:-2]-data[1:-1])*(data[1:-1]-data[2:])>0))\n",
    "        return data_result\n",
    "    def feat_ARBurg(data):\n",
    "        ret = 8*[0.0]\n",
    "        res = ret[:]\n",
    "        ret[0] = 1.0\n",
    "        res[0] = 1.0\n",
    "        matall = np.vstack((np.array(data),np.array(data)))\n",
    "        for i in range(1,8):\n",
    "            sumn = 0.0\n",
    "            sumd = 0.0\n",
    "            mat = matall[:,i-1:]\n",
    "            matold = mat.copy()\n",
    "            \n",
    "            sumn = mat[0,1:].dot(mat[1,:-1].T)\n",
    "            sumd = mat[0,1:].dot(mat[0,1:].T)+mat[1,:-1].dot(mat[1,:-1].T)\n",
    "            garma = -2*sumn/sumd\n",
    "            \n",
    "            for j in range(1,i+1):\n",
    "                res[j] = ret[j]+garma*ret[i-j]\n",
    "            ret = res[:]\n",
    "            mat[1,1:] = mat[1,:-1] + garma*mat[0,1:]\n",
    "            mat[0,1:] = mat[0,1:] + garma*matold[1,:-1]\n",
    "            matall[:,i-1:] = mat\n",
    "        return res[1:]\n",
    "    allChannels = np.array(data.copy()).T\n",
    "    fea = []\n",
    "    for channel in allChannels:\n",
    "        fea += feat_TD(channel)\n",
    "        if useAR:\n",
    "            fea += feat_ARBurg(channel)\n",
    "    return fea"
   ]
  },
  {
   "cell_type": "markdown",
   "metadata": {},
   "source": [
    "### PreProcessData : process data to extract features and prepare train and test dataset\n",
    "PreProcessData (rawData,DataColumnsNames=[],isLaptop=False,chunkSize=None)\n",
    "* rawData : rawData loaded from csvfile, DataFrame or TextFileReader\n",
    "* featExtraFunc : method to extract features from raw data\n",
    "* trianDataFactor : factor of rawData to prepare the trian dataset\n",
    "* uniSampling: whether sampling the features and labels uniformally"
   ]
  },
  {
   "cell_type": "code",
   "execution_count": 9,
   "metadata": {},
   "outputs": [],
   "source": [
    "def PreProcessData(rawData,featExtraFunc,winLength,winIncrement):\n",
    "    start = time.clock()\n",
    "\n",
    "    winCache = []\n",
    "    labelInit = int(rawData.iloc[0,-1])\n",
    "    fealabelDict = {i:[] for i in range(18)}\n",
    "    if 'DataFrame' in str(type(rawData)):\n",
    "        for line in rawData.values:\n",
    "            if int(line[-1]) != labelInit:\n",
    "                winCache = []\n",
    "            winCache.append(line[:-1])\n",
    "            labelInit = int(line[-1])\n",
    "            if len(winCache) == winLength:\n",
    "                oneFeature = feat_extra(winCache)\n",
    "                fealabelDict[labelInit].append(oneFeature)\n",
    "                winCache = winCache[winIncrement:]\n",
    "    else:\n",
    "        for chunk in rawData:\n",
    "            for line in chunk:\n",
    "                if int(line[-1]) != labelInit:\n",
    "                    winCache = []\n",
    "                winCache.append(line[:-1])\n",
    "                labelInit = int(line[-1])\n",
    "                if len(winCache) == winLength:\n",
    "                    oneFeature = feat_extra(winCache)\n",
    "                    fealabelDict[labelInit].append(oneFeature)\n",
    "                    winCache = winCache[winIncrement:]\n",
    "            \n",
    "    elapsed = (time.clock() - start)\n",
    "    print(\"Time used:\",elapsed)\n",
    "    \n",
    "    return fealabelDict"
   ]
  },
  {
   "cell_type": "code",
   "execution_count": 10,
   "metadata": {},
   "outputs": [],
   "source": [
    "def PreProcessDataMap(rawData,featExtraFunc,winLength,winIncrement):\n",
    "    start = time.clock()\n",
    "    features = []\n",
    "    labels = []\n",
    "    \n",
    "    fealabelDict = {i:[] for i in range(18)}\n",
    "    if 'DataFrame' in str(type(rawData)):\n",
    "        index = 0\n",
    "        while index+winLength < len(rawData):\n",
    "            if rawData.iloc[index,-1] != rawData.iloc[index+winLength,-1]:\n",
    "                index += winLength\n",
    "            else:\n",
    "                oneFeature = featExtraFunc(rawData.iloc[index:index+winLength,0:-1])\n",
    "                features.append(oneFeature)\n",
    "                labels.append(rawData.iloc[int(index+winLength/2),-1])\n",
    "                index += winIncrement\n",
    "    else:\n",
    "        for chunk in rawData:\n",
    "            for line in chunk:\n",
    "                if int(line[-1]) != labelInit:\n",
    "                    winCache = []\n",
    "                winCache.append(line[:-1])\n",
    "                labelInit = int(line[-1])\n",
    "                if len(winCache) == winLength:\n",
    "                    fealabelDict[labelInit].append(winCache)\n",
    "                    winCache = winCache[winIncrement:]\n",
    "    #map process the data\n",
    "#     for label,data in fealabelDict.items():\n",
    "#         fealabelDict[label] = list(map(featExtraFunc,data))\n",
    "    \n",
    "    elapsed = (time.clock() - start)\n",
    "    print(\"Time used:\",elapsed)\n",
    "    return features,labels"
   ]
  },
  {
   "cell_type": "code",
   "execution_count": 11,
   "metadata": {},
   "outputs": [],
   "source": [
    "def load_data(fealabelDict,trainDataFactor,uniSampling=True):\n",
    "    train_x = []\n",
    "    train_y = []\n",
    "    test_x = []\n",
    "    test_y = []\n",
    "    if uniSampling:\n",
    "        sampleNum = min([len(value) for value in fealabelDict.values()])\n",
    "        trainNum = int(sampleNum*trainDataFactor)        \n",
    "        for label,feature in fealabelDict.items():\n",
    "            random.shuffle(feature)\n",
    "            train_x.extend(feature[:trainNum])\n",
    "            train_y.extend([label]*trainNum)\n",
    "            test_x.extend(feature[trainNum:sampleNum])\n",
    "            test_y.extend([label]*(sampleNum-trainNum))  \n",
    "    else:\n",
    "        for label,feature in fealabelDict.items():\n",
    "            random.shuffle(feature)\n",
    "            trainNum = int(len(feature)*trainDataFactor)\n",
    "            train_x.extend(feature[:trainNum])\n",
    "            train_y.extend([label]*trainNum)\n",
    "            test_x.extend(feature[trainNum:])\n",
    "            test_y.extend([label]*len(feature[trainNum:]))\n",
    "    return (train_x,train_y),(test_x,test_y)"
   ]
  },
  {
   "cell_type": "markdown",
   "metadata": {},
   "source": [
    "#### An examle of PreProcessData()"
   ]
  },
  {
   "cell_type": "code",
   "execution_count": 12,
   "metadata": {},
   "outputs": [
    {
     "name": "stdout",
     "output_type": "stream",
     "text": [
      "Time used: 0.12255673166023863\n",
      "label: 0, fetureNum: 58\n",
      "label: 1, fetureNum: 58\n",
      "label: 2, fetureNum: 58\n",
      "label: 3, fetureNum: 58\n",
      "label: 4, fetureNum: 58\n",
      "label: 5, fetureNum: 58\n",
      "label: 6, fetureNum: 58\n",
      "label: 7, fetureNum: 0\n",
      "label: 8, fetureNum: 0\n",
      "label: 9, fetureNum: 0\n",
      "label: 10, fetureNum: 0\n",
      "label: 11, fetureNum: 0\n",
      "label: 12, fetureNum: 0\n",
      "label: 13, fetureNum: 0\n",
      "label: 14, fetureNum: 0\n",
      "label: 15, fetureNum: 0\n",
      "label: 16, fetureNum: 0\n",
      "label: 17, fetureNum: 0\n"
     ]
    }
   ],
   "source": [
    "fealabelDict = PreProcessData(rawData,feat_extra,300,100)\n",
    "for label,features in fealabelDict.items():\n",
    "    print(\"label: {0}, fetureNum: {1}\".format(label,len(features)))"
   ]
  },
  {
   "cell_type": "markdown",
   "metadata": {},
   "source": [
    "#### test on delsys data"
   ]
  },
  {
   "cell_type": "code",
   "execution_count": 12,
   "metadata": {},
   "outputs": [
    {
     "name": "stdout",
     "output_type": "stream",
     "text": [
      "Time used: 0.2609189228021847\n",
      "train x length 399, type <class 'list'>\n",
      "train y length 399, type <class 'list'>\n"
     ]
    }
   ],
   "source": [
    "train_x,train_y = PreProcessDataMap(rawData,feat_extra,300,100)\n",
    "print(\"train x length %s, type %s\" % (len(train_x),type(train_x)))\n",
    "print(\"train y length %s, type %s\" % (len(train_y),type(train_y)))"
   ]
  },
  {
   "cell_type": "code",
   "execution_count": 13,
   "metadata": {},
   "outputs": [
    {
     "name": "stdout",
     "output_type": "stream",
     "text": [
      "Time used: 0.25929868437222936\n",
      "label: 0, fetureNum: 57\n",
      "label: 1, fetureNum: 57\n",
      "label: 2, fetureNum: 57\n",
      "label: 3, fetureNum: 57\n",
      "label: 4, fetureNum: 57\n",
      "label: 5, fetureNum: 57\n",
      "label: 6, fetureNum: 57\n"
     ]
    }
   ],
   "source": [
    "features,labels = PreProcessDataMap(rawData,feat_extra,300,100)\n",
    "fealabelMapDict = {i:[] for i in range(7)}\n",
    "for i in range(len(features)):\n",
    "    fealabelMapDict[labels[i]].append(features[i])\n",
    "for label,feature in fealabelMapDict.items():\n",
    "    print(\"label: {0}, fetureNum: {1}\".format(label,len(feature)))"
   ]
  },
  {
   "cell_type": "markdown",
   "metadata": {},
   "source": [
    "## LDA classification"
   ]
  },
  {
   "cell_type": "markdown",
   "metadata": {},
   "source": [
    "### LDA model for delsys data"
   ]
  },
  {
   "cell_type": "code",
   "execution_count": 126,
   "metadata": {},
   "outputs": [
    {
     "name": "stderr",
     "output_type": "stream",
     "text": [
      "C:\\Anaconda3\\envs\\tensorflow\\lib\\site-packages\\sklearn\\discriminant_analysis.py:442: UserWarning: The priors do not sum to 1. Renormalizing\n",
      "  UserWarning)\n"
     ]
    },
    {
     "data": {
      "text/plain": [
       "LinearDiscriminantAnalysis(n_components=None, priors=[1, 1, 1, 1, 1, 1, 1],\n",
       "              shrinkage=None, solver='svd', store_covariance=True,\n",
       "              tol=0.0001)"
      ]
     },
     "execution_count": 126,
     "metadata": {},
     "output_type": "execute_result"
    }
   ],
   "source": [
    "lda = LDA(solver='svd',shrinkage=None,store_covariance=True,priors=[1,1,1,1,1,1,1])\n",
    "lda.fit(features,labels)"
   ]
  },
  {
   "cell_type": "code",
   "execution_count": 154,
   "metadata": {},
   "outputs": [],
   "source": [
    "pd.DataFrame(lda.means_).to_csv(\"means_.csv\",index=False,index_label=False,header=False)"
   ]
  },
  {
   "cell_type": "code",
   "execution_count": 155,
   "metadata": {},
   "outputs": [],
   "source": [
    "pd.DataFrame(lda.covariance_).to_csv(\"covariance_.csv\",index=False,index_label=False,header=False)"
   ]
  },
  {
   "cell_type": "code",
   "execution_count": 156,
   "metadata": {},
   "outputs": [],
   "source": [
    "pd.DataFrame(lda.coef_).to_csv(\"coef_.csv\",index=False,index_label=False,header=False)"
   ]
  },
  {
   "cell_type": "code",
   "execution_count": 157,
   "metadata": {},
   "outputs": [],
   "source": [
    "pd.DataFrame(lda.intercept_).to_csv(\"intercept_.csv\",index=False,index_label=False,header=False)"
   ]
  },
  {
   "cell_type": "markdown",
   "metadata": {},
   "source": [
    "### LDA classifier testing"
   ]
  },
  {
   "cell_type": "code",
   "execution_count": 164,
   "metadata": {},
   "outputs": [
    {
     "name": "stdout",
     "output_type": "stream",
     "text": [
      "<class 'pandas.core.frame.DataFrame'>\n"
     ]
    }
   ],
   "source": [
    "# dataPath = r'E:\\\\Desktop\\\\1_EmgData_TestClassifier_20180320080640_Rover.csv'\n",
    "dataPath = r'C:\\\\Users\\\\mswxh\\\\Desktop\\\\test.csv'\n",
    "dataColumnsNames = ['emg0','emg1','emg2','emg3']\n",
    "rawTestData = LoadCsvData(dataPath,dataColumnsNames)\n",
    "print(type(rawTestData)) #<class 'pandas.core.frame.DataFrame'>"
   ]
  },
  {
   "cell_type": "code",
   "execution_count": 165,
   "metadata": {},
   "outputs": [
    {
     "data": {
      "text/html": [
       "<div>\n",
       "<style scoped>\n",
       "    .dataframe tbody tr th:only-of-type {\n",
       "        vertical-align: middle;\n",
       "    }\n",
       "\n",
       "    .dataframe tbody tr th {\n",
       "        vertical-align: top;\n",
       "    }\n",
       "\n",
       "    .dataframe thead th {\n",
       "        text-align: right;\n",
       "    }\n",
       "</style>\n",
       "<table border=\"1\" class=\"dataframe\">\n",
       "  <thead>\n",
       "    <tr style=\"text-align: right;\">\n",
       "      <th></th>\n",
       "      <th>emg0</th>\n",
       "      <th>emg1</th>\n",
       "      <th>emg2</th>\n",
       "      <th>emg3</th>\n",
       "    </tr>\n",
       "  </thead>\n",
       "  <tbody>\n",
       "    <tr>\n",
       "      <th>count</th>\n",
       "      <td>300.000000</td>\n",
       "      <td>3.000000e+02</td>\n",
       "      <td>300.000000</td>\n",
       "      <td>300.000000</td>\n",
       "    </tr>\n",
       "    <tr>\n",
       "      <th>mean</th>\n",
       "      <td>-0.000001</td>\n",
       "      <td>1.075314e-05</td>\n",
       "      <td>-0.000013</td>\n",
       "      <td>0.000019</td>\n",
       "    </tr>\n",
       "    <tr>\n",
       "      <th>std</th>\n",
       "      <td>0.000137</td>\n",
       "      <td>1.659292e-05</td>\n",
       "      <td>0.000047</td>\n",
       "      <td>0.000004</td>\n",
       "    </tr>\n",
       "    <tr>\n",
       "      <th>min</th>\n",
       "      <td>-0.000494</td>\n",
       "      <td>-5.220000e-05</td>\n",
       "      <td>-0.000231</td>\n",
       "      <td>0.000007</td>\n",
       "    </tr>\n",
       "    <tr>\n",
       "      <th>25%</th>\n",
       "      <td>-0.000072</td>\n",
       "      <td>6.712500e-07</td>\n",
       "      <td>-0.000035</td>\n",
       "      <td>0.000016</td>\n",
       "    </tr>\n",
       "    <tr>\n",
       "      <th>50%</th>\n",
       "      <td>0.000013</td>\n",
       "      <td>1.210000e-05</td>\n",
       "      <td>-0.000017</td>\n",
       "      <td>0.000019</td>\n",
       "    </tr>\n",
       "    <tr>\n",
       "      <th>75%</th>\n",
       "      <td>0.000085</td>\n",
       "      <td>2.085000e-05</td>\n",
       "      <td>0.000002</td>\n",
       "      <td>0.000021</td>\n",
       "    </tr>\n",
       "    <tr>\n",
       "      <th>max</th>\n",
       "      <td>0.000344</td>\n",
       "      <td>4.880000e-05</td>\n",
       "      <td>0.000198</td>\n",
       "      <td>0.000031</td>\n",
       "    </tr>\n",
       "  </tbody>\n",
       "</table>\n",
       "</div>"
      ],
      "text/plain": [
       "             emg0          emg1        emg2        emg3\n",
       "count  300.000000  3.000000e+02  300.000000  300.000000\n",
       "mean    -0.000001  1.075314e-05   -0.000013    0.000019\n",
       "std      0.000137  1.659292e-05    0.000047    0.000004\n",
       "min     -0.000494 -5.220000e-05   -0.000231    0.000007\n",
       "25%     -0.000072  6.712500e-07   -0.000035    0.000016\n",
       "50%      0.000013  1.210000e-05   -0.000017    0.000019\n",
       "75%      0.000085  2.085000e-05    0.000002    0.000021\n",
       "max      0.000344  4.880000e-05    0.000198    0.000031"
      ]
     },
     "execution_count": 165,
     "metadata": {},
     "output_type": "execute_result"
    }
   ],
   "source": [
    "rawTestData.describe()"
   ]
  },
  {
   "cell_type": "code",
   "execution_count": 166,
   "metadata": {},
   "outputs": [
    {
     "name": "stdout",
     "output_type": "stream",
     "text": [
      "Time used: 2.2609674488194287e-05\n",
      "test x length 0, type <class 'list'>\n",
      "test y length 0, type <class 'list'>\n"
     ]
    }
   ],
   "source": [
    "test_x,test_y = PreProcessDataMap(rawTestData,feat_extra,300,100)\n",
    "print(\"test x length %s, type %s\" % (len(test_x),type(test_x)))\n",
    "print(\"test y length %s, type %s\" % (len(test_y),type(test_y)))"
   ]
  },
  {
   "cell_type": "code",
   "execution_count": 168,
   "metadata": {},
   "outputs": [],
   "source": [
    "fea = feat_extra(rawTestData)"
   ]
  },
  {
   "cell_type": "code",
   "execution_count": 171,
   "metadata": {},
   "outputs": [
    {
     "data": {
      "text/plain": [
       "array([2], dtype=int64)"
      ]
     },
     "execution_count": 171,
     "metadata": {},
     "output_type": "execute_result"
    }
   ],
   "source": [
    "lda.predict(np.array(fea).reshape(1,-1))"
   ]
  },
  {
   "cell_type": "code",
   "execution_count": 167,
   "metadata": {},
   "outputs": [
    {
     "ename": "ZeroDivisionError",
     "evalue": "division by zero",
     "output_type": "error",
     "traceback": [
      "\u001b[1;31m---------------------------------------------------------------------------\u001b[0m",
      "\u001b[1;31mZeroDivisionError\u001b[0m                         Traceback (most recent call last)",
      "\u001b[1;32m<ipython-input-167-084bcebe9de8>\u001b[0m in \u001b[0;36m<module>\u001b[1;34m()\u001b[0m\n\u001b[0;32m      4\u001b[0m     \u001b[1;32mif\u001b[0m \u001b[0mresult\u001b[0m\u001b[1;33m[\u001b[0m\u001b[1;36m0\u001b[0m\u001b[1;33m]\u001b[0m \u001b[1;33m==\u001b[0m \u001b[0mtest_y\u001b[0m\u001b[1;33m[\u001b[0m\u001b[0mi\u001b[0m\u001b[1;33m]\u001b[0m\u001b[1;33m:\u001b[0m\u001b[1;33m\u001b[0m\u001b[0m\n\u001b[0;32m      5\u001b[0m         \u001b[0mTrueCount\u001b[0m \u001b[1;33m+=\u001b[0m \u001b[1;36m1\u001b[0m\u001b[1;33m\u001b[0m\u001b[0m\n\u001b[1;32m----> 6\u001b[1;33m \u001b[0mprint\u001b[0m\u001b[1;33m(\u001b[0m\u001b[1;34m\"predictPrecision: {0}\"\u001b[0m\u001b[1;33m.\u001b[0m\u001b[0mformat\u001b[0m\u001b[1;33m(\u001b[0m\u001b[0mTrueCount\u001b[0m\u001b[1;33m/\u001b[0m\u001b[0mlen\u001b[0m\u001b[1;33m(\u001b[0m\u001b[0mtest_x\u001b[0m\u001b[1;33m)\u001b[0m\u001b[1;33m)\u001b[0m\u001b[1;33m)\u001b[0m\u001b[1;33m\u001b[0m\u001b[0m\n\u001b[0m",
      "\u001b[1;31mZeroDivisionError\u001b[0m: division by zero"
     ]
    }
   ],
   "source": [
    "TrueCount = 0\n",
    "for i in range(len(test_x)):\n",
    "    result = lda.predict(np.array(test_x[i]).reshape(1,-1))\n",
    "    if result[0] == test_y[i]:\n",
    "        TrueCount += 1\n",
    "print(\"predictPrecision: {0}\".format(TrueCount/len(test_x)))"
   ]
  }
 ],
 "metadata": {
  "kernelspec": {
   "display_name": "Python 3",
   "language": "python",
   "name": "python3"
  },
  "language_info": {
   "codemirror_mode": {
    "name": "ipython",
    "version": 3
   },
   "file_extension": ".py",
   "mimetype": "text/x-python",
   "name": "python",
   "nbconvert_exporter": "python",
   "pygments_lexer": "ipython3",
   "version": "3.6.2"
  }
 },
 "nbformat": 4,
 "nbformat_minor": 2
}
